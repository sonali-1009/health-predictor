{
 "cells": [
  {
   "cell_type": "markdown",
   "id": "93f74ab4-8dac-47ca-96d7-c35c7515c08a",
   "metadata": {},
   "source": [
    "#### The main jupyter file is: \"Diases symptom and patient profile.ipynb\"\n",
    "\n",
    "#### The main.py is for starting streamlit instance localy.\n",
    "\n",
    "#### You can see the application in life: https://health-predictor-3uopoqgwgsyjbmporfpjew.streamlit.app/\n",
    "\n",
    "#### Github repo: https://github.com/GalkaKG/Health-Predictor"
   ]
  }
 ],
 "metadata": {
  "kernelspec": {
   "display_name": "Python 3 (ipykernel)",
   "language": "python",
   "name": "python3"
  },
  "language_info": {
   "codemirror_mode": {
    "name": "ipython",
    "version": 3
   },
   "file_extension": ".py",
   "mimetype": "text/x-python",
   "name": "python",
   "nbconvert_exporter": "python",
   "pygments_lexer": "ipython3",
   "version": "3.9.12"
  }
 },
 "nbformat": 4,
 "nbformat_minor": 5
}
